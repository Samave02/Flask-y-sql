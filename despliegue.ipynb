{
 "cells": [
  {
   "cell_type": "code",
   "execution_count": 1,
   "metadata": {},
   "outputs": [],
   "source": [
    "import sqlite3\n",
    "conn = sqlite3.connect(\"sitios.db\")\n",
    "cursor = conn.cursor()\n",
    "%load_ext sql\n",
    "%sql sqlite:///sitio.db"
   ]
  },
  {
   "cell_type": "code",
   "execution_count": 2,
   "metadata": {},
   "outputs": [
    {
     "name": "stdout",
     "output_type": "stream",
     "text": [
      " * sqlite:///sitio.db\n",
      "Done.\n"
     ]
    },
    {
     "data": {
      "text/plain": [
       "{'projects': ('Remodelación de baño',\n",
       "  'Enchapes y drywall',\n",
       "  'Instalación de Drywall',\n",
       "  'Pintura y Luces',\n",
       "  'Construcción de muros',\n",
       "  'Construcción de muros - Ladrillo',\n",
       "  'Muros en Bloque',\n",
       "  'Remodelación de alcoba',\n",
       "  'Pisos laminados',\n",
       "  'Pisos laminados',\n",
       "  'Piso laminado',\n",
       "  'Remodelación piso y paredes',\n",
       "  'Piso en Retal de mármol pulido',\n",
       "  'Piso en porcelanato guardaescoba en madera.',\n",
       "  'Columnetas en Piedra',\n",
       "  'Piso en Tablón',\n",
       "  'Enchape en piedra',\n",
       "  'Fachaleta en imitación de ladrillo',\n",
       "  'Piso en enchape de cerámica',\n",
       "  'Estructura de muros en drywall',\n",
       "  'Remodelación de sala',\n",
       "  'Construcción de apartamento',\n",
       "  'Anapoima',\n",
       "  'Fuene En Anapoima',\n",
       "  'Baño Andina',\n",
       "  'Andina Oficina y Baño conductores',\n",
       "  'Andina Presidencia',\n",
       "  'Baño casa',\n",
       "  'Cajicá',\n",
       "  'Casa',\n",
       "  'Ciudad Salitre')}"
      ]
     },
     "execution_count": 2,
     "metadata": {},
     "output_type": "execute_result"
    }
   ],
   "source": [
    "# Conslta sobre la tabla projects, sobre la columna project_name\n",
    "consulta1 = %sql select project_name as projects from project;\n",
    "proyectos = consulta1.dict()\n",
    "proyectos"
   ]
  },
  {
   "cell_type": "code",
   "execution_count": 3,
   "metadata": {},
   "outputs": [
    {
     "name": "stdout",
     "output_type": "stream",
     "text": [
      " * sqlite:///sitio.db\n",
      "Done.\n"
     ]
    },
    {
     "data": {
      "text/plain": [
       "{'user': {'username': ('Prueba', 'Prueba', 'Usuario1'),\n",
       "  'password': ('$2b$12$6P1uMK2pR9z35LmjJ3MVgOyGYg1YovoKxNVEXHHaPRsWqXul4b1Xa',\n",
       "   '$2b$12$6P1uMK2pR9z35LmjJ3MVgOyGYg1YovoKxNVEXHHaPRsWqXul4b1Xa',\n",
       "   b'$2b$12$6P1uMK2pR9z35LmjJ3MVgOyGYg1YovoKxNVEXHHaPRsWqXul4b1Xa'),\n",
       "  'profile_picture': (None, None, ''),\n",
       "  'user_full_name': ('Prueba 1', 'Prueba 1', 'Full name 1'),\n",
       "  'name': ('Akuro Administrator', 'Anon User', 'Akuro Administrator'),\n",
       "  'description': ('dsdsd', None, 'dsdsd')}}"
      ]
     },
     "execution_count": 3,
     "metadata": {},
     "output_type": "execute_result"
    }
   ],
   "source": [
    "consulta2  = %sql select username, password, profile_picture , user_full_name, name, description from  user inner join  user_role_association_table on  user.id =  user_role_association_table.user_id inner join role on user_role_association_table.role_id = role.id\n",
    "userInnerJoin = consulta2.dict()\n",
    "users = {\"user\": userInnerJoin}\n",
    "users"
   ]
  },
  {
   "cell_type": "code",
   "execution_count": 4,
   "metadata": {},
   "outputs": [],
   "source": [
    "users= {'user': {'username': ('Prueba', 'Prueba', 'Usuario1'),\n",
    "  'password': ('$2b$12$6P1uMK2pR9z35LmjJ3MVgOyGYg1YovoKxNVEXHHaPRsWqXul4b1Xa',\n",
    "  '$2b$12$6P1uMK2pR9z35LmjJ3MVgOyGYg1YovoKxNVEXHHaPRsWqXul4b1Xa',\n",
    "  '$2b$12$6P1uMK2pR9z35LmjJ3MVgOyGYg1YovoKxNVEXHHaPRsWqXul4b1Xa'),\n",
    "  'profile_picture': (None, None, ''),\n",
    "  'user_full_name': ('Prueba 1', 'Prueba 1', 'Full name 1'),\n",
    "  'name': ('Akuro Administrator', 'Anon User', 'Akuro Administrator'),\n",
    "  'description': ('dsdsd', None, 'dsdsd')}}"
   ]
  },
  {
   "cell_type": "code",
   "execution_count": 5,
   "metadata": {},
   "outputs": [
    {
     "name": "stdout",
     "output_type": "stream",
     "text": [
      "{'projects': ('Remodelación de baño', 'Enchapes y drywall', 'Instalación de Drywall', 'Pintura y Luces', 'Construcción de muros', 'Construcción de muros - Ladrillo', 'Muros en Bloque', 'Remodelación de alcoba', 'Pisos laminados', 'Pisos laminados', 'Piso laminado', 'Remodelación piso y paredes', 'Piso en Retal de mármol pulido', 'Piso en porcelanato guardaescoba en madera.', 'Columnetas en Piedra', 'Piso en Tablón', 'Enchape en piedra', 'Fachaleta en imitación de ladrillo', 'Piso en enchape de cerámica', 'Estructura de muros en drywall', 'Remodelación de sala', 'Construcción de apartamento', 'Anapoima', 'Fuene En Anapoima', 'Baño Andina', 'Andina Oficina y Baño conductores', 'Andina Presidencia', 'Baño casa', 'Cajicá', 'Casa', 'Ciudad Salitre'), 'user': {'username': ('Prueba', 'Prueba', 'Usuario1'), 'password': ('$2b$12$6P1uMK2pR9z35LmjJ3MVgOyGYg1YovoKxNVEXHHaPRsWqXul4b1Xa', '$2b$12$6P1uMK2pR9z35LmjJ3MVgOyGYg1YovoKxNVEXHHaPRsWqXul4b1Xa', '$2b$12$6P1uMK2pR9z35LmjJ3MVgOyGYg1YovoKxNVEXHHaPRsWqXul4b1Xa'), 'profile_picture': (None, None, ''), 'user_full_name': ('Prueba 1', 'Prueba 1', 'Full name 1'), 'name': ('Akuro Administrator', 'Anon User', 'Akuro Administrator'), 'description': ('dsdsd', None, 'dsdsd')}}\n"
     ]
    }
   ],
   "source": [
    "#concateno los resultados de las consultas\n",
    "documento = proyectos | users\n",
    "print(documento)"
   ]
  },
  {
   "cell_type": "code",
   "execution_count": 6,
   "metadata": {},
   "outputs": [],
   "source": [
    "import json\n",
    "with open(\"file.json\",\"w\") as file:\n",
    "    json.dump(proyectos,file)"
   ]
  }
 ],
 "metadata": {
  "kernelspec": {
   "display_name": "Python 3.10.5 64-bit",
   "language": "python",
   "name": "python3"
  },
  "language_info": {
   "codemirror_mode": {
    "name": "ipython",
    "version": 3
   },
   "file_extension": ".py",
   "mimetype": "text/x-python",
   "name": "python",
   "nbconvert_exporter": "python",
   "pygments_lexer": "ipython3",
   "version": "3.10.5"
  },
  "orig_nbformat": 4,
  "vscode": {
   "interpreter": {
    "hash": "dc906e1a555591928e0c11ad8ab4c963e028084a402a5350ba93e7b223a542ca"
   }
  }
 },
 "nbformat": 4,
 "nbformat_minor": 2
}
